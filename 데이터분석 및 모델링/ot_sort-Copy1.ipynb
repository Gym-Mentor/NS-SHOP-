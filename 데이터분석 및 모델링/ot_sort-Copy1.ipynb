{
 "cells": [
  {
   "cell_type": "code",
   "execution_count": 2,
   "metadata": {},
   "outputs": [],
   "source": [
    "import pandas as pd\n",
    "import numpy as np\n",
    "import matplotlib.pyplot as plt\n",
    "import seaborn as sns\n",
    "import os,glob,tqdm"
   ]
  },
  {
   "cell_type": "code",
   "execution_count": 10,
   "metadata": {},
   "outputs": [],
   "source": [
    "df=pd.read_excel(\"./Data/processing_data_ot_playtime.xlsx\")"
   ]
  },
  {
   "cell_type": "code",
   "execution_count": 11,
   "metadata": {},
   "outputs": [
    {
     "data": {
      "text/plain": [
       "(37372, 15)"
      ]
     },
     "execution_count": 11,
     "metadata": {},
     "output_type": "execute_result"
    }
   ],
   "source": [
    "df.shape\n"
   ]
  },
  {
   "cell_type": "code",
   "execution_count": 12,
   "metadata": {},
   "outputs": [
    {
     "data": {
      "text/html": [
       "<div>\n",
       "<style scoped>\n",
       "    .dataframe tbody tr th:only-of-type {\n",
       "        vertical-align: middle;\n",
       "    }\n",
       "\n",
       "    .dataframe tbody tr th {\n",
       "        vertical-align: top;\n",
       "    }\n",
       "\n",
       "    .dataframe thead th {\n",
       "        text-align: right;\n",
       "    }\n",
       "</style>\n",
       "<table border=\"1\" class=\"dataframe\">\n",
       "  <thead>\n",
       "    <tr style=\"text-align: right;\">\n",
       "      <th></th>\n",
       "      <th>timestemp</th>\n",
       "      <th>month</th>\n",
       "      <th>day</th>\n",
       "      <th>hour</th>\n",
       "      <th>minute</th>\n",
       "      <th>dayofweek</th>\n",
       "      <th>playtime</th>\n",
       "      <th>uniquecode</th>\n",
       "      <th>productcode</th>\n",
       "      <th>productname</th>\n",
       "      <th>category</th>\n",
       "      <th>small_category</th>\n",
       "      <th>price</th>\n",
       "      <th>profit</th>\n",
       "      <th>ot</th>\n",
       "    </tr>\n",
       "  </thead>\n",
       "  <tbody>\n",
       "    <tr>\n",
       "      <td>37367</td>\n",
       "      <td>2019-12-31 23:40:00</td>\n",
       "      <td>12</td>\n",
       "      <td>31</td>\n",
       "      <td>23</td>\n",
       "      <td>40</td>\n",
       "      <td>1</td>\n",
       "      <td>20</td>\n",
       "      <td>100448</td>\n",
       "      <td>201391</td>\n",
       "      <td>일시불쿠첸압력밥솥 6인용</td>\n",
       "      <td>주방</td>\n",
       "      <td>주방가전</td>\n",
       "      <td>148000</td>\n",
       "      <td>10157000</td>\n",
       "      <td>1</td>\n",
       "    </tr>\n",
       "    <tr>\n",
       "      <td>37368</td>\n",
       "      <td>2020-01-01 00:00:00</td>\n",
       "      <td>1</td>\n",
       "      <td>1</td>\n",
       "      <td>0</td>\n",
       "      <td>0</td>\n",
       "      <td>2</td>\n",
       "      <td>20</td>\n",
       "      <td>100448</td>\n",
       "      <td>201391</td>\n",
       "      <td>일시불쿠첸압력밥솥 6인용</td>\n",
       "      <td>주방</td>\n",
       "      <td>주방가전</td>\n",
       "      <td>148000</td>\n",
       "      <td>46608000</td>\n",
       "      <td>2</td>\n",
       "    </tr>\n",
       "    <tr>\n",
       "      <td>37369</td>\n",
       "      <td>2020-01-01 00:00:00</td>\n",
       "      <td>1</td>\n",
       "      <td>1</td>\n",
       "      <td>0</td>\n",
       "      <td>0</td>\n",
       "      <td>2</td>\n",
       "      <td>20</td>\n",
       "      <td>100448</td>\n",
       "      <td>201384</td>\n",
       "      <td>무이자쿠첸압력밥솥 6인용</td>\n",
       "      <td>주방</td>\n",
       "      <td>주방가전</td>\n",
       "      <td>158000</td>\n",
       "      <td>13765000</td>\n",
       "      <td>2</td>\n",
       "    </tr>\n",
       "    <tr>\n",
       "      <td>37370</td>\n",
       "      <td>2020-01-01 00:00:00</td>\n",
       "      <td>1</td>\n",
       "      <td>1</td>\n",
       "      <td>0</td>\n",
       "      <td>0</td>\n",
       "      <td>2</td>\n",
       "      <td>20</td>\n",
       "      <td>100448</td>\n",
       "      <td>201383</td>\n",
       "      <td>무이자쿠첸압력밥솥 10인용</td>\n",
       "      <td>주방</td>\n",
       "      <td>주방가전</td>\n",
       "      <td>178000</td>\n",
       "      <td>50929000</td>\n",
       "      <td>2</td>\n",
       "    </tr>\n",
       "    <tr>\n",
       "      <td>37371</td>\n",
       "      <td>2020-01-01 00:00:00</td>\n",
       "      <td>1</td>\n",
       "      <td>1</td>\n",
       "      <td>0</td>\n",
       "      <td>0</td>\n",
       "      <td>2</td>\n",
       "      <td>20</td>\n",
       "      <td>100448</td>\n",
       "      <td>201390</td>\n",
       "      <td>일시불쿠첸압력밥솥 10인용</td>\n",
       "      <td>주방</td>\n",
       "      <td>주방가전</td>\n",
       "      <td>168000</td>\n",
       "      <td>104392000</td>\n",
       "      <td>2</td>\n",
       "    </tr>\n",
       "  </tbody>\n",
       "</table>\n",
       "</div>"
      ],
      "text/plain": [
       "                timestemp  month  day  hour  minute  dayofweek  playtime  \\\n",
       "37367 2019-12-31 23:40:00     12   31    23      40          1        20   \n",
       "37368 2020-01-01 00:00:00      1    1     0       0          2        20   \n",
       "37369 2020-01-01 00:00:00      1    1     0       0          2        20   \n",
       "37370 2020-01-01 00:00:00      1    1     0       0          2        20   \n",
       "37371 2020-01-01 00:00:00      1    1     0       0          2        20   \n",
       "\n",
       "       uniquecode  productcode     productname category small_category  \\\n",
       "37367      100448       201391   일시불쿠첸압력밥솥 6인용       주방           주방가전   \n",
       "37368      100448       201391   일시불쿠첸압력밥솥 6인용       주방           주방가전   \n",
       "37369      100448       201384   무이자쿠첸압력밥솥 6인용       주방           주방가전   \n",
       "37370      100448       201383  무이자쿠첸압력밥솥 10인용       주방           주방가전   \n",
       "37371      100448       201390  일시불쿠첸압력밥솥 10인용       주방           주방가전   \n",
       "\n",
       "        price     profit  ot  \n",
       "37367  148000   10157000   1  \n",
       "37368  148000   46608000   2  \n",
       "37369  158000   13765000   2  \n",
       "37370  178000   50929000   2  \n",
       "37371  168000  104392000   2  "
      ]
     },
     "execution_count": 12,
     "metadata": {},
     "output_type": "execute_result"
    }
   ],
   "source": [
    "df=df.sort_values(by=[\"playtime\"],ascending=True).sort_values(by=[\"timestemp\"]).reset_index()\n",
    "df.drop(\"index\",axis=1,inplace=True)\n",
    "df.tail()"
   ]
  },
  {
   "cell_type": "code",
   "execution_count": 17,
   "metadata": {
    "scrolled": true
   },
   "outputs": [
    {
     "data": {
      "text/html": [
       "<div>\n",
       "<style scoped>\n",
       "    .dataframe tbody tr th:only-of-type {\n",
       "        vertical-align: middle;\n",
       "    }\n",
       "\n",
       "    .dataframe tbody tr th {\n",
       "        vertical-align: top;\n",
       "    }\n",
       "\n",
       "    .dataframe thead th {\n",
       "        text-align: right;\n",
       "    }\n",
       "</style>\n",
       "<table border=\"1\" class=\"dataframe\">\n",
       "  <thead>\n",
       "    <tr style=\"text-align: right;\">\n",
       "      <th></th>\n",
       "      <th>timestemp</th>\n",
       "      <th>profit</th>\n",
       "      <th>ot</th>\n",
       "    </tr>\n",
       "  </thead>\n",
       "  <tbody>\n",
       "    <tr>\n",
       "      <td>0</td>\n",
       "      <td>2019-01-01 06:00:00</td>\n",
       "      <td>4371000</td>\n",
       "      <td>0</td>\n",
       "    </tr>\n",
       "    <tr>\n",
       "      <td>1</td>\n",
       "      <td>2019-01-01 06:00:00</td>\n",
       "      <td>2099000</td>\n",
       "      <td>0</td>\n",
       "    </tr>\n",
       "    <tr>\n",
       "      <td>2</td>\n",
       "      <td>2019-01-01 06:20:00</td>\n",
       "      <td>3262000</td>\n",
       "      <td>1</td>\n",
       "    </tr>\n",
       "    <tr>\n",
       "      <td>3</td>\n",
       "      <td>2019-01-01 06:20:00</td>\n",
       "      <td>6955000</td>\n",
       "      <td>1</td>\n",
       "    </tr>\n",
       "    <tr>\n",
       "      <td>4</td>\n",
       "      <td>2019-01-01 06:40:00</td>\n",
       "      <td>6672000</td>\n",
       "      <td>2</td>\n",
       "    </tr>\n",
       "    <tr>\n",
       "      <td>5</td>\n",
       "      <td>2019-01-01 06:40:00</td>\n",
       "      <td>9337000</td>\n",
       "      <td>2</td>\n",
       "    </tr>\n",
       "    <tr>\n",
       "      <td>6</td>\n",
       "      <td>2019-01-01 07:00:00</td>\n",
       "      <td>6819000</td>\n",
       "      <td>0</td>\n",
       "    </tr>\n",
       "    <tr>\n",
       "      <td>7</td>\n",
       "      <td>2019-01-01 07:20:00</td>\n",
       "      <td>15689000</td>\n",
       "      <td>1</td>\n",
       "    </tr>\n",
       "    <tr>\n",
       "      <td>8</td>\n",
       "      <td>2019-01-01 07:40:00</td>\n",
       "      <td>25370000</td>\n",
       "      <td>2</td>\n",
       "    </tr>\n",
       "    <tr>\n",
       "      <td>9</td>\n",
       "      <td>2019-01-01 08:00:00</td>\n",
       "      <td>16133000</td>\n",
       "      <td>0</td>\n",
       "    </tr>\n",
       "  </tbody>\n",
       "</table>\n",
       "</div>"
      ],
      "text/plain": [
       "            timestemp    profit  ot\n",
       "0 2019-01-01 06:00:00   4371000   0\n",
       "1 2019-01-01 06:00:00   2099000   0\n",
       "2 2019-01-01 06:20:00   3262000   1\n",
       "3 2019-01-01 06:20:00   6955000   1\n",
       "4 2019-01-01 06:40:00   6672000   2\n",
       "5 2019-01-01 06:40:00   9337000   2\n",
       "6 2019-01-01 07:00:00   6819000   0\n",
       "7 2019-01-01 07:20:00  15689000   1\n",
       "8 2019-01-01 07:40:00  25370000   2\n",
       "9 2019-01-01 08:00:00  16133000   0"
      ]
     },
     "execution_count": 17,
     "metadata": {},
     "output_type": "execute_result"
    }
   ],
   "source": [
    "df[[\"timestemp\",\"profit\",\"ot\"]].head(10)"
   ]
  },
  {
   "cell_type": "code",
   "execution_count": 47,
   "metadata": {},
   "outputs": [],
   "source": [
    "for i in df.index:\n",
    "    pretime=df.iloc[i-1].timestemp\n",
    "    nowtime=df.iloc[i].timestemp\n",
    "    \n",
    "    preuniquecode=df.iloc[i-1].uniquecode\n",
    "    nowuniquecode=df.iloc[i].uniquecode\n",
    "    \n",
    "    if preuniquecode!=nowuniquecode: #마더코드가 다를 때\n",
    "        if pretime!=nowtime:         #편성시간이 다르면 (새로운 제품 편성)\n",
    "            ot=0\n",
    "    else:                            #마더코드가 같을 때\n",
    "        if pretime!=nowtime:         #편성시간이 다르면 (회차가 다를 때)\n",
    "            ot+=1\n",
    "    df.loc[i,'ot']=ot\n",
    "        "
   ]
  },
  {
   "cell_type": "code",
   "execution_count": 1,
   "metadata": {
    "scrolled": true
   },
   "outputs": [
    {
     "ename": "NameError",
     "evalue": "name 'df' is not defined",
     "output_type": "error",
     "traceback": [
      "\u001b[1;31m---------------------------------------------------------------------------\u001b[0m",
      "\u001b[1;31mNameError\u001b[0m                                 Traceback (most recent call last)",
      "\u001b[1;32m<ipython-input-1-4a676c3d8c05>\u001b[0m in \u001b[0;36m<module>\u001b[1;34m\u001b[0m\n\u001b[1;32m----> 1\u001b[1;33m \u001b[0mdf\u001b[0m\u001b[1;33m.\u001b[0m\u001b[0mhead\u001b[0m\u001b[1;33m(\u001b[0m\u001b[1;36m10\u001b[0m\u001b[1;33m)\u001b[0m\u001b[1;33m\u001b[0m\u001b[1;33m\u001b[0m\u001b[0m\n\u001b[0m",
      "\u001b[1;31mNameError\u001b[0m: name 'df' is not defined"
     ]
    }
   ],
   "source": [
    "df.head(10)"
   ]
  },
  {
   "cell_type": "code",
   "execution_count": 50,
   "metadata": {},
   "outputs": [
    {
     "data": {
      "text/plain": [
       "array([0., 1., 2., 3., 4., 5., 6., 7.])"
      ]
     },
     "execution_count": 50,
     "metadata": {},
     "output_type": "execute_result"
    }
   ],
   "source": [
    "df['ot'].unique()"
   ]
  },
  {
   "cell_type": "code",
   "execution_count": 51,
   "metadata": {},
   "outputs": [
    {
     "data": {
      "text/plain": [
       "0.0    12931\n",
       "1.0    12705\n",
       "2.0    11169\n",
       "3.0      292\n",
       "4.0      138\n",
       "5.0      135\n",
       "7.0        1\n",
       "6.0        1\n",
       "Name: ot, dtype: int64"
      ]
     },
     "execution_count": 51,
     "metadata": {},
     "output_type": "execute_result"
    }
   ],
   "source": [
    "df['ot'].value_counts()"
   ]
  },
  {
   "cell_type": "code",
   "execution_count": 39,
   "metadata": {
    "scrolled": true
   },
   "outputs": [
    {
     "data": {
      "text/html": [
       "<div>\n",
       "<style scoped>\n",
       "    .dataframe tbody tr th:only-of-type {\n",
       "        vertical-align: middle;\n",
       "    }\n",
       "\n",
       "    .dataframe tbody tr th {\n",
       "        vertical-align: top;\n",
       "    }\n",
       "\n",
       "    .dataframe thead th {\n",
       "        text-align: right;\n",
       "    }\n",
       "</style>\n",
       "<table border=\"1\" class=\"dataframe\">\n",
       "  <thead>\n",
       "    <tr style=\"text-align: right;\">\n",
       "      <th></th>\n",
       "      <th>timestemp</th>\n",
       "      <th>month</th>\n",
       "      <th>day</th>\n",
       "      <th>hour</th>\n",
       "      <th>minute</th>\n",
       "      <th>playtime</th>\n",
       "      <th>uniquecode</th>\n",
       "      <th>productcode</th>\n",
       "      <th>productname</th>\n",
       "      <th>category</th>\n",
       "      <th>small_category</th>\n",
       "      <th>price</th>\n",
       "      <th>profit</th>\n",
       "      <th>ot</th>\n",
       "    </tr>\n",
       "  </thead>\n",
       "  <tbody>\n",
       "    <tr>\n",
       "      <td>34119</td>\n",
       "      <td>2019-11-28 11:30:00</td>\n",
       "      <td>11</td>\n",
       "      <td>28</td>\n",
       "      <td>11</td>\n",
       "      <td>30</td>\n",
       "      <td>10</td>\n",
       "      <td>100046</td>\n",
       "      <td>200125</td>\n",
       "      <td>고칼슘검은콩두유48팩+호두아몬드 두유48팩</td>\n",
       "      <td>농수축</td>\n",
       "      <td>가공식품</td>\n",
       "      <td>30900</td>\n",
       "      <td>29948000</td>\n",
       "      <td>7</td>\n",
       "    </tr>\n",
       "  </tbody>\n",
       "</table>\n",
       "</div>"
      ],
      "text/plain": [
       "                timestemp  month  day  hour  minute  playtime  uniquecode  \\\n",
       "34119 2019-11-28 11:30:00     11   28    11      30        10      100046   \n",
       "\n",
       "       productcode              productname category small_category  price  \\\n",
       "34119       200125  고칼슘검은콩두유48팩+호두아몬드 두유48팩      농수축           가공식품  30900   \n",
       "\n",
       "         profit  ot  \n",
       "34119  29948000   7  "
      ]
     },
     "execution_count": 39,
     "metadata": {},
     "output_type": "execute_result"
    }
   ],
   "source": [
    "df[df['ot']==7]"
   ]
  },
  {
   "cell_type": "code",
   "execution_count": 40,
   "metadata": {},
   "outputs": [
    {
     "data": {
      "text/html": [
       "<div>\n",
       "<style scoped>\n",
       "    .dataframe tbody tr th:only-of-type {\n",
       "        vertical-align: middle;\n",
       "    }\n",
       "\n",
       "    .dataframe tbody tr th {\n",
       "        vertical-align: top;\n",
       "    }\n",
       "\n",
       "    .dataframe thead th {\n",
       "        text-align: right;\n",
       "    }\n",
       "</style>\n",
       "<table border=\"1\" class=\"dataframe\">\n",
       "  <thead>\n",
       "    <tr style=\"text-align: right;\">\n",
       "      <th></th>\n",
       "      <th>timestemp</th>\n",
       "      <th>month</th>\n",
       "      <th>day</th>\n",
       "      <th>hour</th>\n",
       "      <th>minute</th>\n",
       "      <th>playtime</th>\n",
       "      <th>uniquecode</th>\n",
       "      <th>productcode</th>\n",
       "      <th>productname</th>\n",
       "      <th>category</th>\n",
       "      <th>small_category</th>\n",
       "      <th>price</th>\n",
       "      <th>profit</th>\n",
       "      <th>ot</th>\n",
       "    </tr>\n",
       "  </thead>\n",
       "  <tbody>\n",
       "    <tr>\n",
       "      <td>34118</td>\n",
       "      <td>2019-11-28 11:20:00</td>\n",
       "      <td>11</td>\n",
       "      <td>28</td>\n",
       "      <td>11</td>\n",
       "      <td>20</td>\n",
       "      <td>10</td>\n",
       "      <td>100046</td>\n",
       "      <td>200125</td>\n",
       "      <td>고칼슘검은콩두유48팩+호두아몬드 두유48팩</td>\n",
       "      <td>농수축</td>\n",
       "      <td>가공식품</td>\n",
       "      <td>30900</td>\n",
       "      <td>18449000</td>\n",
       "      <td>6</td>\n",
       "    </tr>\n",
       "  </tbody>\n",
       "</table>\n",
       "</div>"
      ],
      "text/plain": [
       "                timestemp  month  day  hour  minute  playtime  uniquecode  \\\n",
       "34118 2019-11-28 11:20:00     11   28    11      20        10      100046   \n",
       "\n",
       "       productcode              productname category small_category  price  \\\n",
       "34118       200125  고칼슘검은콩두유48팩+호두아몬드 두유48팩      농수축           가공식품  30900   \n",
       "\n",
       "         profit  ot  \n",
       "34118  18449000   6  "
      ]
     },
     "execution_count": 40,
     "metadata": {},
     "output_type": "execute_result"
    }
   ],
   "source": [
    "df[df['ot']==6]"
   ]
  },
  {
   "cell_type": "code",
   "execution_count": null,
   "metadata": {},
   "outputs": [],
   "source": []
  }
 ],
 "metadata": {
  "kernelspec": {
   "display_name": "Python 3",
   "language": "python",
   "name": "python3"
  },
  "language_info": {
   "codemirror_mode": {
    "name": "ipython",
    "version": 3
   },
   "file_extension": ".py",
   "mimetype": "text/x-python",
   "name": "python",
   "nbconvert_exporter": "python",
   "pygments_lexer": "ipython3",
   "version": "3.7.4"
  }
 },
 "nbformat": 4,
 "nbformat_minor": 2
}
